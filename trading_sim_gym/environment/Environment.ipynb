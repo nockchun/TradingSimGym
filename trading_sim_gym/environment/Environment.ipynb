{
 "cells": [
  {
   "cell_type": "code",
   "execution_count": 11,
   "id": "d86037e1-af3b-4fff-b40c-422e7a4b2070",
   "metadata": {
    "tags": []
   },
   "outputs": [],
   "source": [
    "import sys\n",
    "sys.path.append(\"..\")"
   ]
  },
  {
   "cell_type": "code",
   "execution_count": 12,
   "id": "bb8cc945-6160-4139-a147-764f03be70ad",
   "metadata": {
    "tags": []
   },
   "outputs": [],
   "source": [
    "from abc import ABCMeta, abstractmethod"
   ]
  },
  {
   "cell_type": "code",
   "execution_count": 4,
   "id": "ce851b3e-6e7f-400e-b20a-d964477d068a",
   "metadata": {
    "tags": []
   },
   "outputs": [],
   "source": [
    "from enum import Enum"
   ]
  },
  {
   "cell_type": "code",
   "execution_count": 5,
   "id": "6bb36640-1c89-426c-9782-8f57407a1ec8",
   "metadata": {
    "tags": []
   },
   "outputs": [],
   "source": [
    "import gymnasium as gym"
   ]
  },
  {
   "cell_type": "code",
   "execution_count": 14,
   "id": "a62e95bb-800b-4604-b483-442b34fb80c9",
   "metadata": {
    "tags": []
   },
   "outputs": [],
   "source": [
    "from feeder import BaseFeeder"
   ]
  },
  {
   "cell_type": "code",
   "execution_count": 7,
   "id": "acb5f535-6efd-4cfc-bb99-8bf8986ff282",
   "metadata": {
    "tags": []
   },
   "outputs": [],
   "source": [
    "class TradingEnvAction(Enum):\n",
    "    BUY = 0\n",
    "    SELL = 1\n",
    "    HOLD = 2"
   ]
  },
  {
   "cell_type": "code",
   "execution_count": 15,
   "id": "1a6c6314-1833-4d1a-b25e-d170ac5826f9",
   "metadata": {
    "tags": []
   },
   "outputs": [],
   "source": [
    "class BaseEnv(gym.Env, metaclass=ABCMeta):\n",
    "    def __init__(self, feeder: BaseFeeder):\n",
    "        super(BaseEnv, self).__init__()\n",
    "        \n",
    "        self._feeder = feeder"
   ]
  },
  {
   "cell_type": "code",
   "execution_count": null,
   "id": "92202d5a-3352-444e-a0e8-95d8305d4fb8",
   "metadata": {},
   "outputs": [],
   "source": []
  },
  {
   "cell_type": "code",
   "execution_count": null,
   "id": "7acb6b9c-c308-4e99-bfd8-acd33bdf8fa1",
   "metadata": {},
   "outputs": [],
   "source": []
  },
  {
   "cell_type": "code",
   "execution_count": null,
   "id": "17900b82-e22e-4293-bfab-48983f0094a8",
   "metadata": {},
   "outputs": [],
   "source": []
  },
  {
   "cell_type": "code",
   "execution_count": null,
   "id": "57d1360e-d95d-42fc-8120-a2b17acba2a6",
   "metadata": {},
   "outputs": [],
   "source": []
  },
  {
   "cell_type": "code",
   "execution_count": null,
   "id": "2561b0c4-e228-4d14-9b67-d9c7539e11ee",
   "metadata": {},
   "outputs": [],
   "source": []
  },
  {
   "cell_type": "code",
   "execution_count": null,
   "id": "73c4edfb-b78d-44ba-a0ff-d87b02b9d2cf",
   "metadata": {},
   "outputs": [],
   "source": []
  },
  {
   "cell_type": "code",
   "execution_count": null,
   "id": "1a1a9236-b16e-45d1-a913-acc0785954f6",
   "metadata": {},
   "outputs": [],
   "source": []
  },
  {
   "cell_type": "code",
   "execution_count": null,
   "id": "d2bd3ed5-4cc6-4558-b049-57ed69352891",
   "metadata": {},
   "outputs": [],
   "source": []
  },
  {
   "cell_type": "code",
   "execution_count": null,
   "id": "506f801d-4310-492e-8eeb-33a392ee36fc",
   "metadata": {},
   "outputs": [],
   "source": []
  },
  {
   "cell_type": "code",
   "execution_count": null,
   "id": "7dcfab49-977b-4c6c-bd3f-eb372d866ef2",
   "metadata": {},
   "outputs": [],
   "source": []
  },
  {
   "cell_type": "code",
   "execution_count": null,
   "id": "dd3efca2-8280-43e3-80e7-a497f7383689",
   "metadata": {},
   "outputs": [],
   "source": []
  },
  {
   "cell_type": "code",
   "execution_count": null,
   "id": "afef1c05-e1fe-4117-9523-76586dc43468",
   "metadata": {},
   "outputs": [],
   "source": []
  },
  {
   "cell_type": "code",
   "execution_count": null,
   "id": "9cc370df-058a-4265-9c6e-6011510ab308",
   "metadata": {},
   "outputs": [],
   "source": []
  }
 ],
 "metadata": {
  "kernelspec": {
   "display_name": "Python 3 (ipykernel)",
   "language": "python",
   "name": "python3"
  },
  "language_info": {
   "codemirror_mode": {
    "name": "ipython",
    "version": 3
   },
   "file_extension": ".py",
   "mimetype": "text/x-python",
   "name": "python",
   "nbconvert_exporter": "python",
   "pygments_lexer": "ipython3",
   "version": "3.10.13"
  }
 },
 "nbformat": 4,
 "nbformat_minor": 5
}
