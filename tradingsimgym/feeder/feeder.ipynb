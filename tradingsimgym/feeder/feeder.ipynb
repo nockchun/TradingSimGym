{
 "cells": [
  {
   "cell_type": "code",
   "execution_count": 1,
   "id": "db607472-8330-4795-86bc-b9b89accdcd5",
   "metadata": {
    "tags": []
   },
   "outputs": [],
   "source": [
    "from abc import ABCMeta, abstractmethod"
   ]
  },
  {
   "cell_type": "code",
   "execution_count": null,
   "id": "280be0a5-b029-4ad0-90b9-afe811779bb0",
   "metadata": {},
   "outputs": [],
   "source": []
  },
  {
   "cell_type": "code",
   "execution_count": 2,
   "id": "294d2026-f1d3-4c0b-acbf-37fa09c83f35",
   "metadata": {
    "tags": []
   },
   "outputs": [],
   "source": [
    "class BaseFeeder(object, metaclass=ABCMeta):\n",
    "    @abstractmethod\n",
    "    def __init__(self, data, **kwargs):\n",
    "        self._data = data\n",
    "        self._index = 0\n",
    "    \n",
    "    def getDatas(self):\n",
    "        return self._data\n",
    "    \n",
    "    def reset(self):\n",
    "        self._index = 0\n",
    "    \n",
    "    @abstractmethod\n",
    "    def next(self):\n",
    "        raise NotImplementedError\n",
    "    \n",
    "    @abstractmethod\n",
    "    def hasNext(self):\n",
    "        raise NotImplementedError"
   ]
  },
  {
   "cell_type": "code",
   "execution_count": null,
   "id": "b2fce19a-b6ea-4c17-9971-5664eb215a27",
   "metadata": {},
   "outputs": [],
   "source": []
  },
  {
   "cell_type": "code",
   "execution_count": null,
   "id": "97d566dc-22d5-4838-8b63-9b3224bd81f1",
   "metadata": {},
   "outputs": [],
   "source": []
  },
  {
   "cell_type": "code",
   "execution_count": null,
   "id": "d232753f-1299-4562-b52e-429d00dd5b77",
   "metadata": {},
   "outputs": [],
   "source": []
  },
  {
   "cell_type": "code",
   "execution_count": null,
   "id": "f7faa89a-8b8d-4baa-8d17-ea83fe97a131",
   "metadata": {},
   "outputs": [],
   "source": []
  },
  {
   "cell_type": "code",
   "execution_count": null,
   "id": "95b667a7-66c2-424d-8069-1095e0de37c2",
   "metadata": {},
   "outputs": [],
   "source": []
  },
  {
   "cell_type": "code",
   "execution_count": null,
   "id": "2f3c29ca-14b9-4cdf-84b8-08a51bf70a65",
   "metadata": {},
   "outputs": [],
   "source": []
  },
  {
   "cell_type": "code",
   "execution_count": null,
   "id": "9ad92d50-c75b-4967-a991-308dba831c3a",
   "metadata": {},
   "outputs": [],
   "source": []
  },
  {
   "cell_type": "code",
   "execution_count": null,
   "id": "6b4dc1f9-def2-403a-bff8-49093faf4735",
   "metadata": {},
   "outputs": [],
   "source": []
  },
  {
   "cell_type": "code",
   "execution_count": null,
   "id": "f3419058-7b6e-4ae6-8ac1-4b02f36adb0c",
   "metadata": {},
   "outputs": [],
   "source": []
  },
  {
   "cell_type": "code",
   "execution_count": null,
   "id": "5a8c346f-a6a2-4340-ab53-8dc9c8e383bd",
   "metadata": {},
   "outputs": [],
   "source": []
  },
  {
   "cell_type": "code",
   "execution_count": null,
   "id": "76f05273-f77a-4373-bbea-09521d6012b5",
   "metadata": {},
   "outputs": [],
   "source": []
  },
  {
   "cell_type": "code",
   "execution_count": null,
   "id": "ef0b4b9f-fac7-4a2f-8ee5-08d1f24a5604",
   "metadata": {},
   "outputs": [],
   "source": []
  },
  {
   "cell_type": "code",
   "execution_count": null,
   "id": "2eedc806-cccc-4adb-b40b-c915f7efe341",
   "metadata": {},
   "outputs": [],
   "source": []
  }
 ],
 "metadata": {
  "kernelspec": {
   "display_name": "Python 3 (ipykernel)",
   "language": "python",
   "name": "python3"
  },
  "language_info": {
   "codemirror_mode": {
    "name": "ipython",
    "version": 3
   },
   "file_extension": ".py",
   "mimetype": "text/x-python",
   "name": "python",
   "nbconvert_exporter": "python",
   "pygments_lexer": "ipython3",
   "version": "3.10.13"
  }
 },
 "nbformat": 4,
 "nbformat_minor": 5
}
